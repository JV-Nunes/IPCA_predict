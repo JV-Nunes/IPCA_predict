{
 "cells": [
  {
   "cell_type": "code",
   "execution_count": 5,
   "metadata": {},
   "outputs": [],
   "source": [
    "import sys\n",
    "import os\n",
    "\n",
    "SCRIPT_DIR = os.path.dirname(os.path.abspath('getters/'))\n",
    "sys.path.append(os.path.dirname(SCRIPT_DIR))"
   ]
  },
  {
   "cell_type": "code",
   "execution_count": 6,
   "metadata": {},
   "outputs": [],
   "source": [
    "import pandas as pd\n",
    "from getters.get_data import GetExpectedInflation, GetInteresRate\n",
    "import getters.urls_dict as u"
   ]
  },
  {
   "cell_type": "markdown",
   "metadata": {},
   "source": [
    "### Carregando dados da inflação esperada através de scraping"
   ]
  },
  {
   "cell_type": "code",
   "execution_count": 7,
   "metadata": {},
   "outputs": [
    {
     "name": "stdout",
     "output_type": "stream",
     "text": [
      "Scraping url: http://www.ipeadata.gov.br/ExibeSerie.aspx?serid=1693254712&module=M\n",
      "Approved access\n"
     ]
    }
   ],
   "source": [
    "    url = u.urls.get('Inflação Esperada')\n",
    "    headers = u.headers\n",
    "    get_exp = GetExpectedInflation(url, headers)\n",
    "\n",
    "    headings, ano, mes, value = get_exp.run()"
   ]
  },
  {
   "cell_type": "code",
   "execution_count": 8,
   "metadata": {},
   "outputs": [],
   "source": [
    "exp = pd.DataFrame(data={'ano':ano,'mes':mes,'valor':value})\n",
    "exp.rename(columns={'valor':headings[0].split('-')[0]}, inplace=True)"
   ]
  },
  {
   "cell_type": "code",
   "execution_count": 9,
   "metadata": {},
   "outputs": [
    {
     "data": {
      "text/html": [
       "<div>\n",
       "<style scoped>\n",
       "    .dataframe tbody tr th:only-of-type {\n",
       "        vertical-align: middle;\n",
       "    }\n",
       "\n",
       "    .dataframe tbody tr th {\n",
       "        vertical-align: top;\n",
       "    }\n",
       "\n",
       "    .dataframe thead th {\n",
       "        text-align: right;\n",
       "    }\n",
       "</style>\n",
       "<table border=\"1\" class=\"dataframe\">\n",
       "  <thead>\n",
       "    <tr style=\"text-align: right;\">\n",
       "      <th></th>\n",
       "      <th>ano</th>\n",
       "      <th>mes</th>\n",
       "      <th>Expectativa média de Inflação</th>\n",
       "    </tr>\n",
       "  </thead>\n",
       "  <tbody>\n",
       "    <tr>\n",
       "      <th>0</th>\n",
       "      <td>2001</td>\n",
       "      <td>07</td>\n",
       "      <td>6,40</td>\n",
       "    </tr>\n",
       "    <tr>\n",
       "      <th>1</th>\n",
       "      <td>2001</td>\n",
       "      <td>08</td>\n",
       "      <td>6,57</td>\n",
       "    </tr>\n",
       "    <tr>\n",
       "      <th>2</th>\n",
       "      <td>2001</td>\n",
       "      <td>09</td>\n",
       "      <td>6,53</td>\n",
       "    </tr>\n",
       "    <tr>\n",
       "      <th>3</th>\n",
       "      <td>2001</td>\n",
       "      <td>10</td>\n",
       "      <td>6,49</td>\n",
       "    </tr>\n",
       "    <tr>\n",
       "      <th>4</th>\n",
       "      <td>2001</td>\n",
       "      <td>11</td>\n",
       "      <td>5,57</td>\n",
       "    </tr>\n",
       "    <tr>\n",
       "      <th>5</th>\n",
       "      <td>2001</td>\n",
       "      <td>12</td>\n",
       "      <td>4,84</td>\n",
       "    </tr>\n",
       "    <tr>\n",
       "      <th>6</th>\n",
       "      <td>2002</td>\n",
       "      <td>01</td>\n",
       "      <td>4,76</td>\n",
       "    </tr>\n",
       "    <tr>\n",
       "      <th>7</th>\n",
       "      <td>2002</td>\n",
       "      <td>02</td>\n",
       "      <td>4,70</td>\n",
       "    </tr>\n",
       "    <tr>\n",
       "      <th>8</th>\n",
       "      <td>2002</td>\n",
       "      <td>03</td>\n",
       "      <td>4,94</td>\n",
       "    </tr>\n",
       "    <tr>\n",
       "      <th>9</th>\n",
       "      <td>2002</td>\n",
       "      <td>04</td>\n",
       "      <td>4,90</td>\n",
       "    </tr>\n",
       "    <tr>\n",
       "      <th>10</th>\n",
       "      <td>2002</td>\n",
       "      <td>05</td>\n",
       "      <td>4,37</td>\n",
       "    </tr>\n",
       "    <tr>\n",
       "      <th>11</th>\n",
       "      <td>2002</td>\n",
       "      <td>06</td>\n",
       "      <td>4,57</td>\n",
       "    </tr>\n",
       "    <tr>\n",
       "      <th>12</th>\n",
       "      <td>2002</td>\n",
       "      <td>07</td>\n",
       "      <td>5,08</td>\n",
       "    </tr>\n",
       "    <tr>\n",
       "      <th>13</th>\n",
       "      <td>2002</td>\n",
       "      <td>08</td>\n",
       "      <td>5,40</td>\n",
       "    </tr>\n",
       "    <tr>\n",
       "      <th>14</th>\n",
       "      <td>2002</td>\n",
       "      <td>09</td>\n",
       "      <td>6,28</td>\n",
       "    </tr>\n",
       "  </tbody>\n",
       "</table>\n",
       "</div>"
      ],
      "text/plain": [
       "     ano mes Expectativa média de Inflação \n",
       "0   2001  07                           6,40\n",
       "1   2001  08                           6,57\n",
       "2   2001  09                           6,53\n",
       "3   2001  10                           6,49\n",
       "4   2001  11                           5,57\n",
       "5   2001  12                           4,84\n",
       "6   2002  01                           4,76\n",
       "7   2002  02                           4,70\n",
       "8   2002  03                           4,94\n",
       "9   2002  04                           4,90\n",
       "10  2002  05                           4,37\n",
       "11  2002  06                           4,57\n",
       "12  2002  07                           5,08\n",
       "13  2002  08                           5,40\n",
       "14  2002  09                           6,28"
      ]
     },
     "execution_count": 9,
     "metadata": {},
     "output_type": "execute_result"
    }
   ],
   "source": [
    "exp.head(15)"
   ]
  },
  {
   "cell_type": "markdown",
   "metadata": {},
   "source": [
    "### Carregando dados do IPCA obtidos através de scraping"
   ]
  },
  {
   "cell_type": "code",
   "execution_count": 10,
   "metadata": {},
   "outputs": [],
   "source": [
    "FILE = 'IPCA-serie-historica.csv/mes_brasil.csv'"
   ]
  },
  {
   "cell_type": "code",
   "execution_count": 11,
   "metadata": {},
   "outputs": [],
   "source": [
    "ipca = pd.read_csv('../getters/Data/extracted/'+FILE)"
   ]
  },
  {
   "cell_type": "code",
   "execution_count": 12,
   "metadata": {},
   "outputs": [
    {
     "data": {
      "text/html": [
       "<div>\n",
       "<style scoped>\n",
       "    .dataframe tbody tr th:only-of-type {\n",
       "        vertical-align: middle;\n",
       "    }\n",
       "\n",
       "    .dataframe tbody tr th {\n",
       "        vertical-align: top;\n",
       "    }\n",
       "\n",
       "    .dataframe thead th {\n",
       "        text-align: right;\n",
       "    }\n",
       "</style>\n",
       "<table border=\"1\" class=\"dataframe\">\n",
       "  <thead>\n",
       "    <tr style=\"text-align: right;\">\n",
       "      <th></th>\n",
       "      <th>ano</th>\n",
       "      <th>mes</th>\n",
       "      <th>indice</th>\n",
       "      <th>variacao_mensal</th>\n",
       "      <th>variacao_trimestral</th>\n",
       "      <th>variacao_semestral</th>\n",
       "      <th>variacao_anual</th>\n",
       "      <th>variacao_doze_meses</th>\n",
       "    </tr>\n",
       "  </thead>\n",
       "  <tbody>\n",
       "    <tr>\n",
       "      <th>0</th>\n",
       "      <td>1979</td>\n",
       "      <td>12</td>\n",
       "      <td>7.618300e-09</td>\n",
       "      <td>NaN</td>\n",
       "      <td>NaN</td>\n",
       "      <td>NaN</td>\n",
       "      <td>NaN</td>\n",
       "      <td>NaN</td>\n",
       "    </tr>\n",
       "    <tr>\n",
       "      <th>1</th>\n",
       "      <td>1980</td>\n",
       "      <td>1</td>\n",
       "      <td>8.122300e-09</td>\n",
       "      <td>6.62</td>\n",
       "      <td>NaN</td>\n",
       "      <td>NaN</td>\n",
       "      <td>6.62</td>\n",
       "      <td>NaN</td>\n",
       "    </tr>\n",
       "    <tr>\n",
       "      <th>2</th>\n",
       "      <td>1980</td>\n",
       "      <td>2</td>\n",
       "      <td>8.497300e-09</td>\n",
       "      <td>4.62</td>\n",
       "      <td>NaN</td>\n",
       "      <td>NaN</td>\n",
       "      <td>11.54</td>\n",
       "      <td>NaN</td>\n",
       "    </tr>\n",
       "    <tr>\n",
       "      <th>3</th>\n",
       "      <td>1980</td>\n",
       "      <td>3</td>\n",
       "      <td>9.010400e-09</td>\n",
       "      <td>6.04</td>\n",
       "      <td>18.27</td>\n",
       "      <td>NaN</td>\n",
       "      <td>18.27</td>\n",
       "      <td>NaN</td>\n",
       "    </tr>\n",
       "    <tr>\n",
       "      <th>4</th>\n",
       "      <td>1980</td>\n",
       "      <td>4</td>\n",
       "      <td>9.486700e-09</td>\n",
       "      <td>5.29</td>\n",
       "      <td>16.80</td>\n",
       "      <td>NaN</td>\n",
       "      <td>24.53</td>\n",
       "      <td>NaN</td>\n",
       "    </tr>\n",
       "  </tbody>\n",
       "</table>\n",
       "</div>"
      ],
      "text/plain": [
       "    ano  mes        indice  variacao_mensal  variacao_trimestral  \\\n",
       "0  1979   12  7.618300e-09              NaN                  NaN   \n",
       "1  1980    1  8.122300e-09             6.62                  NaN   \n",
       "2  1980    2  8.497300e-09             4.62                  NaN   \n",
       "3  1980    3  9.010400e-09             6.04                18.27   \n",
       "4  1980    4  9.486700e-09             5.29                16.80   \n",
       "\n",
       "   variacao_semestral  variacao_anual  variacao_doze_meses  \n",
       "0                 NaN             NaN                  NaN  \n",
       "1                 NaN            6.62                  NaN  \n",
       "2                 NaN           11.54                  NaN  \n",
       "3                 NaN           18.27                  NaN  \n",
       "4                 NaN           24.53                  NaN  "
      ]
     },
     "execution_count": 12,
     "metadata": {},
     "output_type": "execute_result"
    }
   ],
   "source": [
    "ipca.head()"
   ]
  },
  {
   "cell_type": "markdown",
   "metadata": {},
   "source": [
    "### Carregando dados da taxa de juros básica via scraping"
   ]
  },
  {
   "cell_type": "markdown",
   "metadata": {},
   "source": [
    "Para gerar este csv, foi executado o arquivo get_data.py, utilizando a rotina python definida no bloco de código abaixo do condicional:"
   ]
  },
  {
   "cell_type": "code",
   "execution_count": 25,
   "metadata": {},
   "outputs": [],
   "source": [
    "# if __name__==\"__main__\""
   ]
  },
  {
   "cell_type": "markdown",
   "metadata": {},
   "source": [
    "##############################################################"
   ]
  },
  {
   "cell_type": "code",
   "execution_count": 54,
   "metadata": {},
   "outputs": [],
   "source": [
    "juros = pd.read_csv('../getters/Data/extracted/taxa_de_juros.csv', delimiter=',')"
   ]
  },
  {
   "cell_type": "code",
   "execution_count": 55,
   "metadata": {},
   "outputs": [
    {
     "data": {
      "text/html": [
       "<div>\n",
       "<style scoped>\n",
       "    .dataframe tbody tr th:only-of-type {\n",
       "        vertical-align: middle;\n",
       "    }\n",
       "\n",
       "    .dataframe tbody tr th {\n",
       "        vertical-align: top;\n",
       "    }\n",
       "\n",
       "    .dataframe thead th {\n",
       "        text-align: right;\n",
       "    }\n",
       "</style>\n",
       "<table border=\"1\" class=\"dataframe\">\n",
       "  <thead>\n",
       "    <tr style=\"text-align: right;\">\n",
       "      <th></th>\n",
       "      <th>nº</th>\n",
       "      <th>data</th>\n",
       "      <th>viés</th>\n",
       "      <th>Período de vigência</th>\n",
       "      <th>Meta SELIC</th>\n",
       "      <th>TBAN</th>\n",
       "      <th>Taxa SELIC_%</th>\n",
       "      <th>Taxa SELIC_%_aa</th>\n",
       "    </tr>\n",
       "  </thead>\n",
       "  <tbody>\n",
       "    <tr>\n",
       "      <th>0</th>\n",
       "      <td>245º</td>\n",
       "      <td>16/03/2022</td>\n",
       "      <td>NaN</td>\n",
       "      <td>17/03/2022 -</td>\n",
       "      <td>11,75</td>\n",
       "      <td>NaN</td>\n",
       "      <td>NaN</td>\n",
       "      <td>NaN</td>\n",
       "    </tr>\n",
       "    <tr>\n",
       "      <th>1</th>\n",
       "      <td>244º</td>\n",
       "      <td>02/02/2022</td>\n",
       "      <td>NaN</td>\n",
       "      <td>03/02/2022 - 16/03/2022</td>\n",
       "      <td>10,75</td>\n",
       "      <td>NaN</td>\n",
       "      <td>1,13</td>\n",
       "      <td>10,65</td>\n",
       "    </tr>\n",
       "    <tr>\n",
       "      <th>2</th>\n",
       "      <td>243º</td>\n",
       "      <td>08/12/2021</td>\n",
       "      <td>NaN</td>\n",
       "      <td>09/12/2021 - 02/02/2022</td>\n",
       "      <td>9,25</td>\n",
       "      <td>NaN</td>\n",
       "      <td>1,40</td>\n",
       "      <td>9,15</td>\n",
       "    </tr>\n",
       "    <tr>\n",
       "      <th>3</th>\n",
       "      <td>242º</td>\n",
       "      <td>27/10/2021</td>\n",
       "      <td>NaN</td>\n",
       "      <td>28/10/2021 - 08/12/2021</td>\n",
       "      <td>7,75</td>\n",
       "      <td>NaN</td>\n",
       "      <td>0,82</td>\n",
       "      <td>7,65</td>\n",
       "    </tr>\n",
       "    <tr>\n",
       "      <th>4</th>\n",
       "      <td>241º</td>\n",
       "      <td>22/09/2021</td>\n",
       "      <td>NaN</td>\n",
       "      <td>23/09/2021 - 27/10/2021</td>\n",
       "      <td>6,25</td>\n",
       "      <td>NaN</td>\n",
       "      <td>0,57</td>\n",
       "      <td>6,15</td>\n",
       "    </tr>\n",
       "  </tbody>\n",
       "</table>\n",
       "</div>"
      ],
      "text/plain": [
       "     nº        data viés      Período de vigência Meta SELIC TBAN  \\\n",
       "0  245º  16/03/2022  NaN             17/03/2022 -      11,75  NaN   \n",
       "1  244º  02/02/2022  NaN  03/02/2022 - 16/03/2022      10,75  NaN   \n",
       "2  243º  08/12/2021  NaN  09/12/2021 - 02/02/2022       9,25  NaN   \n",
       "3  242º  27/10/2021  NaN  28/10/2021 - 08/12/2021       7,75  NaN   \n",
       "4  241º  22/09/2021  NaN  23/09/2021 - 27/10/2021       6,25  NaN   \n",
       "\n",
       "  Taxa SELIC_% Taxa SELIC_%_aa  \n",
       "0          NaN             NaN  \n",
       "1         1,13           10,65  \n",
       "2         1,40            9,15  \n",
       "3         0,82            7,65  \n",
       "4         0,57            6,15  "
      ]
     },
     "execution_count": 55,
     "metadata": {},
     "output_type": "execute_result"
    }
   ],
   "source": [
    "juros.head()"
   ]
  },
  {
   "cell_type": "code",
   "execution_count": 58,
   "metadata": {},
   "outputs": [],
   "source": [
    "juros = juros[['data','Meta SELIC', 'Taxa SELIC_%', 'Taxa SELIC_%_aa']]\n",
    "juros['data'] = juros['data'].astype(str)\n",
    "juros['ano'] = juros['data'].apply(lambda x: x[6:])\n",
    "juros['mes'] = juros['data'].apply(lambda x: x[3:5])\n",
    "juros.drop(columns='data', inplace=True)"
   ]
  },
  {
   "cell_type": "code",
   "execution_count": 41,
   "metadata": {},
   "outputs": [
    {
     "data": {
      "text/html": [
       "<div>\n",
       "<style scoped>\n",
       "    .dataframe tbody tr th:only-of-type {\n",
       "        vertical-align: middle;\n",
       "    }\n",
       "\n",
       "    .dataframe tbody tr th {\n",
       "        vertical-align: top;\n",
       "    }\n",
       "\n",
       "    .dataframe thead th {\n",
       "        text-align: right;\n",
       "    }\n",
       "</style>\n",
       "<table border=\"1\" class=\"dataframe\">\n",
       "  <thead>\n",
       "    <tr style=\"text-align: right;\">\n",
       "      <th></th>\n",
       "      <th>Meta SELIC</th>\n",
       "      <th>Taxa SELIC_%</th>\n",
       "      <th>Taxa SELIC_%_aa</th>\n",
       "      <th>ano</th>\n",
       "      <th>mes</th>\n",
       "    </tr>\n",
       "  </thead>\n",
       "  <tbody>\n",
       "    <tr>\n",
       "      <th>0</th>\n",
       "      <td>11,75</td>\n",
       "      <td>NaN</td>\n",
       "      <td>NaN</td>\n",
       "      <td>2022</td>\n",
       "      <td>03</td>\n",
       "    </tr>\n",
       "    <tr>\n",
       "      <th>1</th>\n",
       "      <td>10,75</td>\n",
       "      <td>1,13</td>\n",
       "      <td>10,65</td>\n",
       "      <td>2022</td>\n",
       "      <td>02</td>\n",
       "    </tr>\n",
       "    <tr>\n",
       "      <th>2</th>\n",
       "      <td>9,25</td>\n",
       "      <td>1,40</td>\n",
       "      <td>9,15</td>\n",
       "      <td>2021</td>\n",
       "      <td>12</td>\n",
       "    </tr>\n",
       "    <tr>\n",
       "      <th>3</th>\n",
       "      <td>7,75</td>\n",
       "      <td>0,82</td>\n",
       "      <td>7,65</td>\n",
       "      <td>2021</td>\n",
       "      <td>10</td>\n",
       "    </tr>\n",
       "    <tr>\n",
       "      <th>4</th>\n",
       "      <td>6,25</td>\n",
       "      <td>0,57</td>\n",
       "      <td>6,15</td>\n",
       "      <td>2021</td>\n",
       "      <td>09</td>\n",
       "    </tr>\n",
       "  </tbody>\n",
       "</table>\n",
       "</div>"
      ],
      "text/plain": [
       "  Meta SELIC Taxa SELIC_% Taxa SELIC_%_aa   ano mes\n",
       "0      11,75          NaN             NaN  2022  03\n",
       "1      10,75         1,13           10,65  2022  02\n",
       "2       9,25         1,40            9,15  2021  12\n",
       "3       7,75         0,82            7,65  2021  10\n",
       "4       6,25         0,57            6,15  2021  09"
      ]
     },
     "execution_count": 41,
     "metadata": {},
     "output_type": "execute_result"
    }
   ],
   "source": [
    "juros.head()"
   ]
  },
  {
   "cell_type": "markdown",
   "metadata": {},
   "source": [
    "### Iniciando tratamento dos dados"
   ]
  },
  {
   "cell_type": "code",
   "execution_count": 66,
   "metadata": {},
   "outputs": [],
   "source": [
    "ipca.rename(columns={'variacao_mensal':'variacao_mensal_ipca'}, inplace=True)\n",
    "ipca = ipca[['ano','mes','indice','variacao_mensal_ipca']]"
   ]
  },
  {
   "cell_type": "code",
   "execution_count": 50,
   "metadata": {},
   "outputs": [
    {
     "data": {
      "text/html": [
       "<div>\n",
       "<style scoped>\n",
       "    .dataframe tbody tr th:only-of-type {\n",
       "        vertical-align: middle;\n",
       "    }\n",
       "\n",
       "    .dataframe tbody tr th {\n",
       "        vertical-align: top;\n",
       "    }\n",
       "\n",
       "    .dataframe thead th {\n",
       "        text-align: right;\n",
       "    }\n",
       "</style>\n",
       "<table border=\"1\" class=\"dataframe\">\n",
       "  <thead>\n",
       "    <tr style=\"text-align: right;\">\n",
       "      <th></th>\n",
       "      <th>ano</th>\n",
       "      <th>mes</th>\n",
       "      <th>Expectativa média de Inflação</th>\n",
       "    </tr>\n",
       "  </thead>\n",
       "  <tbody>\n",
       "    <tr>\n",
       "      <th>0</th>\n",
       "      <td>2001</td>\n",
       "      <td>7</td>\n",
       "      <td>6,40</td>\n",
       "    </tr>\n",
       "    <tr>\n",
       "      <th>1</th>\n",
       "      <td>2001</td>\n",
       "      <td>8</td>\n",
       "      <td>6,57</td>\n",
       "    </tr>\n",
       "    <tr>\n",
       "      <th>2</th>\n",
       "      <td>2001</td>\n",
       "      <td>9</td>\n",
       "      <td>6,53</td>\n",
       "    </tr>\n",
       "    <tr>\n",
       "      <th>3</th>\n",
       "      <td>2001</td>\n",
       "      <td>10</td>\n",
       "      <td>6,49</td>\n",
       "    </tr>\n",
       "    <tr>\n",
       "      <th>4</th>\n",
       "      <td>2001</td>\n",
       "      <td>11</td>\n",
       "      <td>5,57</td>\n",
       "    </tr>\n",
       "  </tbody>\n",
       "</table>\n",
       "</div>"
      ],
      "text/plain": [
       "    ano  mes Expectativa média de Inflação \n",
       "0  2001    7                           6,40\n",
       "1  2001    8                           6,57\n",
       "2  2001    9                           6,53\n",
       "3  2001   10                           6,49\n",
       "4  2001   11                           5,57"
      ]
     },
     "execution_count": 50,
     "metadata": {},
     "output_type": "execute_result"
    }
   ],
   "source": [
    "exp.head()"
   ]
  },
  {
   "cell_type": "code",
   "execution_count": 68,
   "metadata": {},
   "outputs": [],
   "source": [
    "exp['ano'] = exp['ano'].astype(int)\n",
    "exp['mes'] = exp['mes'].astype(int)\n",
    "juros['ano'] = pd.to_numeric(juros.ano)\n",
    "juros['mes'] = pd.to_numeric(juros.mes)"
   ]
  },
  {
   "cell_type": "code",
   "execution_count": 69,
   "metadata": {},
   "outputs": [],
   "source": [
    "ipca_exp = ipca.merge(exp, on=['ano','mes'])\n",
    "ipca_exp_jur = ipca_exp.merge(juros, on=['ano','mes'])"
   ]
  },
  {
   "cell_type": "code",
   "execution_count": 70,
   "metadata": {},
   "outputs": [
    {
     "data": {
      "text/html": [
       "<div>\n",
       "<style scoped>\n",
       "    .dataframe tbody tr th:only-of-type {\n",
       "        vertical-align: middle;\n",
       "    }\n",
       "\n",
       "    .dataframe tbody tr th {\n",
       "        vertical-align: top;\n",
       "    }\n",
       "\n",
       "    .dataframe thead th {\n",
       "        text-align: right;\n",
       "    }\n",
       "</style>\n",
       "<table border=\"1\" class=\"dataframe\">\n",
       "  <thead>\n",
       "    <tr style=\"text-align: right;\">\n",
       "      <th></th>\n",
       "      <th>ano</th>\n",
       "      <th>mes</th>\n",
       "      <th>indice</th>\n",
       "      <th>variacao_mensal_ipca</th>\n",
       "      <th>Expectativa média de Inflação</th>\n",
       "      <th>Meta SELIC</th>\n",
       "      <th>Taxa SELIC_%</th>\n",
       "      <th>Taxa SELIC_%_aa</th>\n",
       "    </tr>\n",
       "  </thead>\n",
       "  <tbody>\n",
       "    <tr>\n",
       "      <th>0</th>\n",
       "      <td>2001</td>\n",
       "      <td>7</td>\n",
       "      <td>1756.28</td>\n",
       "      <td>1.33</td>\n",
       "      <td>6,40</td>\n",
       "      <td>19,00</td>\n",
       "      <td>1,74</td>\n",
       "      <td>18,96</td>\n",
       "    </tr>\n",
       "    <tr>\n",
       "      <th>1</th>\n",
       "      <td>2001</td>\n",
       "      <td>8</td>\n",
       "      <td>1768.57</td>\n",
       "      <td>0.70</td>\n",
       "      <td>6,57</td>\n",
       "      <td>19,00</td>\n",
       "      <td>1,32</td>\n",
       "      <td>19,04</td>\n",
       "    </tr>\n",
       "    <tr>\n",
       "      <th>2</th>\n",
       "      <td>2001</td>\n",
       "      <td>9</td>\n",
       "      <td>1773.52</td>\n",
       "      <td>0.28</td>\n",
       "      <td>6,53</td>\n",
       "      <td>19,00</td>\n",
       "      <td>1,32</td>\n",
       "      <td>19,07</td>\n",
       "    </tr>\n",
       "    <tr>\n",
       "      <th>3</th>\n",
       "      <td>2001</td>\n",
       "      <td>10</td>\n",
       "      <td>1788.24</td>\n",
       "      <td>0.83</td>\n",
       "      <td>6,49</td>\n",
       "      <td>19,00</td>\n",
       "      <td>1,60</td>\n",
       "      <td>19,05</td>\n",
       "    </tr>\n",
       "    <tr>\n",
       "      <th>4</th>\n",
       "      <td>2001</td>\n",
       "      <td>11</td>\n",
       "      <td>1800.94</td>\n",
       "      <td>0.71</td>\n",
       "      <td>5,57</td>\n",
       "      <td>19,00</td>\n",
       "      <td>1,39</td>\n",
       "      <td>19,05</td>\n",
       "    </tr>\n",
       "  </tbody>\n",
       "</table>\n",
       "</div>"
      ],
      "text/plain": [
       "    ano  mes   indice  variacao_mensal_ipca Expectativa média de Inflação   \\\n",
       "0  2001    7  1756.28                  1.33                           6,40   \n",
       "1  2001    8  1768.57                  0.70                           6,57   \n",
       "2  2001    9  1773.52                  0.28                           6,53   \n",
       "3  2001   10  1788.24                  0.83                           6,49   \n",
       "4  2001   11  1800.94                  0.71                           5,57   \n",
       "\n",
       "  Meta SELIC Taxa SELIC_% Taxa SELIC_%_aa  \n",
       "0      19,00         1,74           18,96  \n",
       "1      19,00         1,32           19,04  \n",
       "2      19,00         1,32           19,07  \n",
       "3      19,00         1,60           19,05  \n",
       "4      19,00         1,39           19,05  "
      ]
     },
     "execution_count": 70,
     "metadata": {},
     "output_type": "execute_result"
    }
   ],
   "source": [
    "ipca_exp_jur.head()"
   ]
  },
  {
   "cell_type": "code",
   "execution_count": null,
   "metadata": {},
   "outputs": [
    {
     "ename": "ModuleNotFoundError",
     "evalue": "No module named 'xgboost'",
     "output_type": "error",
     "traceback": [
      "\u001b[0;31m---------------------------------------------------------------------------\u001b[0m",
      "\u001b[0;31mModuleNotFoundError\u001b[0m                       Traceback (most recent call last)",
      "\u001b[0;32m/tmp/ipykernel_16433/3667297521.py\u001b[0m in \u001b[0;36m<module>\u001b[0;34m\u001b[0m\n\u001b[0;32m----> 1\u001b[0;31m \u001b[0;32mfrom\u001b[0m \u001b[0mxgboost\u001b[0m\u001b[0;34m.\u001b[0m\u001b[0msklearn\u001b[0m \u001b[0;32mimport\u001b[0m \u001b[0mXGBRegressor\u001b[0m\u001b[0;34m\u001b[0m\u001b[0;34m\u001b[0m\u001b[0m\n\u001b[0m",
      "\u001b[0;31mModuleNotFoundError\u001b[0m: No module named 'xgboost'"
     ]
    }
   ],
   "source": [
    "from xgboost.sklearn import XGBRegressor"
   ]
  },
  {
   "cell_type": "code",
   "execution_count": null,
   "metadata": {},
   "outputs": [],
   "source": []
  }
 ],
 "metadata": {
  "interpreter": {
   "hash": "0b57a106df503026757037a3564c5b06bb9bd0ebd4985fd2fe126eeda7bdee66"
  },
  "kernelspec": {
   "display_name": "Python 3.9.7 ('scraping')",
   "language": "python",
   "name": "python3"
  },
  "language_info": {
   "codemirror_mode": {
    "name": "ipython",
    "version": 3
   },
   "file_extension": ".py",
   "mimetype": "text/x-python",
   "name": "python",
   "nbconvert_exporter": "python",
   "pygments_lexer": "ipython3",
   "version": "3.9.7"
  },
  "orig_nbformat": 4
 },
 "nbformat": 4,
 "nbformat_minor": 2
}
