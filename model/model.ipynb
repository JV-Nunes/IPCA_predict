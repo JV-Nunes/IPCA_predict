{
 "cells": [
  {
   "cell_type": "code",
   "execution_count": 1,
   "metadata": {},
   "outputs": [],
   "source": [
    "import sys\n",
    "import os\n",
    "\n",
    "SCRIPT_DIR = os.path.dirname(os.path.abspath('getters/'))\n",
    "sys.path.append(os.path.dirname(SCRIPT_DIR))"
   ]
  },
  {
   "cell_type": "code",
   "execution_count": 2,
   "metadata": {},
   "outputs": [],
   "source": [
    "import pandas as pd\n",
    "from getters.get_data import GetExpectedInflation, GetInteresRate\n",
    "import getters.urls_dict as u"
   ]
  },
  {
   "cell_type": "markdown",
   "metadata": {},
   "source": [
    "### Carregando dados da inflação esperada através de scraping"
   ]
  },
  {
   "cell_type": "code",
   "execution_count": 3,
   "metadata": {},
   "outputs": [
    {
     "name": "stdout",
     "output_type": "stream",
     "text": [
      "Scraping url: http://www.ipeadata.gov.br/ExibeSerie.aspx?serid=1693254712&module=M\n",
      "Approved access\n"
     ]
    }
   ],
   "source": [
    "    url = u.urls.get('Inflação Esperada')\n",
    "    headers = u.headers\n",
    "    get_exp = GetExpectedInflation(url, headers)\n",
    "\n",
    "    headings, ano, mes, value = get_exp.run()"
   ]
  },
  {
   "cell_type": "code",
   "execution_count": 4,
   "metadata": {},
   "outputs": [],
   "source": [
    "exp = pd.DataFrame(data={'ano':ano,'mes':mes,'valor':value})\n",
    "exp.rename(columns={'valor':headings[0].split('-')[0]}, inplace=True)"
   ]
  },
  {
   "cell_type": "code",
   "execution_count": 5,
   "metadata": {},
   "outputs": [
    {
     "data": {
      "text/html": [
       "<div>\n",
       "<style scoped>\n",
       "    .dataframe tbody tr th:only-of-type {\n",
       "        vertical-align: middle;\n",
       "    }\n",
       "\n",
       "    .dataframe tbody tr th {\n",
       "        vertical-align: top;\n",
       "    }\n",
       "\n",
       "    .dataframe thead th {\n",
       "        text-align: right;\n",
       "    }\n",
       "</style>\n",
       "<table border=\"1\" class=\"dataframe\">\n",
       "  <thead>\n",
       "    <tr style=\"text-align: right;\">\n",
       "      <th></th>\n",
       "      <th>ano</th>\n",
       "      <th>mes</th>\n",
       "      <th>Expectativa média de Inflação</th>\n",
       "    </tr>\n",
       "  </thead>\n",
       "  <tbody>\n",
       "    <tr>\n",
       "      <th>0</th>\n",
       "      <td>2001</td>\n",
       "      <td>07</td>\n",
       "      <td>6,40</td>\n",
       "    </tr>\n",
       "    <tr>\n",
       "      <th>1</th>\n",
       "      <td>2001</td>\n",
       "      <td>08</td>\n",
       "      <td>6,57</td>\n",
       "    </tr>\n",
       "    <tr>\n",
       "      <th>2</th>\n",
       "      <td>2001</td>\n",
       "      <td>09</td>\n",
       "      <td>6,53</td>\n",
       "    </tr>\n",
       "    <tr>\n",
       "      <th>3</th>\n",
       "      <td>2001</td>\n",
       "      <td>10</td>\n",
       "      <td>6,49</td>\n",
       "    </tr>\n",
       "    <tr>\n",
       "      <th>4</th>\n",
       "      <td>2001</td>\n",
       "      <td>11</td>\n",
       "      <td>5,57</td>\n",
       "    </tr>\n",
       "    <tr>\n",
       "      <th>5</th>\n",
       "      <td>2001</td>\n",
       "      <td>12</td>\n",
       "      <td>4,84</td>\n",
       "    </tr>\n",
       "    <tr>\n",
       "      <th>6</th>\n",
       "      <td>2002</td>\n",
       "      <td>01</td>\n",
       "      <td>4,76</td>\n",
       "    </tr>\n",
       "    <tr>\n",
       "      <th>7</th>\n",
       "      <td>2002</td>\n",
       "      <td>02</td>\n",
       "      <td>4,70</td>\n",
       "    </tr>\n",
       "    <tr>\n",
       "      <th>8</th>\n",
       "      <td>2002</td>\n",
       "      <td>03</td>\n",
       "      <td>4,94</td>\n",
       "    </tr>\n",
       "    <tr>\n",
       "      <th>9</th>\n",
       "      <td>2002</td>\n",
       "      <td>04</td>\n",
       "      <td>4,90</td>\n",
       "    </tr>\n",
       "    <tr>\n",
       "      <th>10</th>\n",
       "      <td>2002</td>\n",
       "      <td>05</td>\n",
       "      <td>4,37</td>\n",
       "    </tr>\n",
       "    <tr>\n",
       "      <th>11</th>\n",
       "      <td>2002</td>\n",
       "      <td>06</td>\n",
       "      <td>4,57</td>\n",
       "    </tr>\n",
       "    <tr>\n",
       "      <th>12</th>\n",
       "      <td>2002</td>\n",
       "      <td>07</td>\n",
       "      <td>5,08</td>\n",
       "    </tr>\n",
       "    <tr>\n",
       "      <th>13</th>\n",
       "      <td>2002</td>\n",
       "      <td>08</td>\n",
       "      <td>5,40</td>\n",
       "    </tr>\n",
       "    <tr>\n",
       "      <th>14</th>\n",
       "      <td>2002</td>\n",
       "      <td>09</td>\n",
       "      <td>6,28</td>\n",
       "    </tr>\n",
       "  </tbody>\n",
       "</table>\n",
       "</div>"
      ],
      "text/plain": [
       "     ano mes Expectativa média de Inflação \n",
       "0   2001  07                           6,40\n",
       "1   2001  08                           6,57\n",
       "2   2001  09                           6,53\n",
       "3   2001  10                           6,49\n",
       "4   2001  11                           5,57\n",
       "5   2001  12                           4,84\n",
       "6   2002  01                           4,76\n",
       "7   2002  02                           4,70\n",
       "8   2002  03                           4,94\n",
       "9   2002  04                           4,90\n",
       "10  2002  05                           4,37\n",
       "11  2002  06                           4,57\n",
       "12  2002  07                           5,08\n",
       "13  2002  08                           5,40\n",
       "14  2002  09                           6,28"
      ]
     },
     "execution_count": 5,
     "metadata": {},
     "output_type": "execute_result"
    }
   ],
   "source": [
    "exp.head(15)"
   ]
  },
  {
   "cell_type": "markdown",
   "metadata": {},
   "source": [
    "### Carregando dados do IPCA obtidos através de scraping"
   ]
  },
  {
   "cell_type": "code",
   "execution_count": 6,
   "metadata": {},
   "outputs": [],
   "source": [
    "FILE = 'IPCA-serie-historica.csv/mes_brasil.csv'"
   ]
  },
  {
   "cell_type": "code",
   "execution_count": 7,
   "metadata": {},
   "outputs": [],
   "source": [
    "ipca = pd.read_csv('../getters/Data/extracted/'+FILE)"
   ]
  },
  {
   "cell_type": "code",
   "execution_count": 8,
   "metadata": {},
   "outputs": [
    {
     "data": {
      "text/html": [
       "<div>\n",
       "<style scoped>\n",
       "    .dataframe tbody tr th:only-of-type {\n",
       "        vertical-align: middle;\n",
       "    }\n",
       "\n",
       "    .dataframe tbody tr th {\n",
       "        vertical-align: top;\n",
       "    }\n",
       "\n",
       "    .dataframe thead th {\n",
       "        text-align: right;\n",
       "    }\n",
       "</style>\n",
       "<table border=\"1\" class=\"dataframe\">\n",
       "  <thead>\n",
       "    <tr style=\"text-align: right;\">\n",
       "      <th></th>\n",
       "      <th>ano</th>\n",
       "      <th>mes</th>\n",
       "      <th>indice</th>\n",
       "      <th>variacao_mensal</th>\n",
       "      <th>variacao_trimestral</th>\n",
       "      <th>variacao_semestral</th>\n",
       "      <th>variacao_anual</th>\n",
       "      <th>variacao_doze_meses</th>\n",
       "    </tr>\n",
       "  </thead>\n",
       "  <tbody>\n",
       "    <tr>\n",
       "      <th>0</th>\n",
       "      <td>1979</td>\n",
       "      <td>12</td>\n",
       "      <td>7.618300e-09</td>\n",
       "      <td>NaN</td>\n",
       "      <td>NaN</td>\n",
       "      <td>NaN</td>\n",
       "      <td>NaN</td>\n",
       "      <td>NaN</td>\n",
       "    </tr>\n",
       "    <tr>\n",
       "      <th>1</th>\n",
       "      <td>1980</td>\n",
       "      <td>1</td>\n",
       "      <td>8.122300e-09</td>\n",
       "      <td>6.62</td>\n",
       "      <td>NaN</td>\n",
       "      <td>NaN</td>\n",
       "      <td>6.62</td>\n",
       "      <td>NaN</td>\n",
       "    </tr>\n",
       "    <tr>\n",
       "      <th>2</th>\n",
       "      <td>1980</td>\n",
       "      <td>2</td>\n",
       "      <td>8.497300e-09</td>\n",
       "      <td>4.62</td>\n",
       "      <td>NaN</td>\n",
       "      <td>NaN</td>\n",
       "      <td>11.54</td>\n",
       "      <td>NaN</td>\n",
       "    </tr>\n",
       "    <tr>\n",
       "      <th>3</th>\n",
       "      <td>1980</td>\n",
       "      <td>3</td>\n",
       "      <td>9.010400e-09</td>\n",
       "      <td>6.04</td>\n",
       "      <td>18.27</td>\n",
       "      <td>NaN</td>\n",
       "      <td>18.27</td>\n",
       "      <td>NaN</td>\n",
       "    </tr>\n",
       "    <tr>\n",
       "      <th>4</th>\n",
       "      <td>1980</td>\n",
       "      <td>4</td>\n",
       "      <td>9.486700e-09</td>\n",
       "      <td>5.29</td>\n",
       "      <td>16.80</td>\n",
       "      <td>NaN</td>\n",
       "      <td>24.53</td>\n",
       "      <td>NaN</td>\n",
       "    </tr>\n",
       "  </tbody>\n",
       "</table>\n",
       "</div>"
      ],
      "text/plain": [
       "    ano  mes        indice  variacao_mensal  variacao_trimestral  \\\n",
       "0  1979   12  7.618300e-09              NaN                  NaN   \n",
       "1  1980    1  8.122300e-09             6.62                  NaN   \n",
       "2  1980    2  8.497300e-09             4.62                  NaN   \n",
       "3  1980    3  9.010400e-09             6.04                18.27   \n",
       "4  1980    4  9.486700e-09             5.29                16.80   \n",
       "\n",
       "   variacao_semestral  variacao_anual  variacao_doze_meses  \n",
       "0                 NaN             NaN                  NaN  \n",
       "1                 NaN            6.62                  NaN  \n",
       "2                 NaN           11.54                  NaN  \n",
       "3                 NaN           18.27                  NaN  \n",
       "4                 NaN           24.53                  NaN  "
      ]
     },
     "execution_count": 8,
     "metadata": {},
     "output_type": "execute_result"
    }
   ],
   "source": [
    "ipca.head()"
   ]
  },
  {
   "cell_type": "markdown",
   "metadata": {},
   "source": [
    "### Carregando dados da taxa de juros básica via scraping"
   ]
  },
  {
   "cell_type": "markdown",
   "metadata": {},
   "source": [
    "Para gerar este csv, foi executado o arquivo get_data.py, utilizando a rotina python definida no bloco de código abaixo do condicional:"
   ]
  },
  {
   "cell_type": "code",
   "execution_count": 9,
   "metadata": {},
   "outputs": [],
   "source": [
    "# if __name__==\"__main__\""
   ]
  },
  {
   "cell_type": "markdown",
   "metadata": {},
   "source": [
    "##############################################################"
   ]
  },
  {
   "cell_type": "code",
   "execution_count": 10,
   "metadata": {},
   "outputs": [],
   "source": [
    "juros = pd.read_csv('../getters/Data/extracted/taxa_de_juros.csv', delimiter=',')"
   ]
  },
  {
   "cell_type": "code",
   "execution_count": 11,
   "metadata": {},
   "outputs": [
    {
     "data": {
      "text/html": [
       "<div>\n",
       "<style scoped>\n",
       "    .dataframe tbody tr th:only-of-type {\n",
       "        vertical-align: middle;\n",
       "    }\n",
       "\n",
       "    .dataframe tbody tr th {\n",
       "        vertical-align: top;\n",
       "    }\n",
       "\n",
       "    .dataframe thead th {\n",
       "        text-align: right;\n",
       "    }\n",
       "</style>\n",
       "<table border=\"1\" class=\"dataframe\">\n",
       "  <thead>\n",
       "    <tr style=\"text-align: right;\">\n",
       "      <th></th>\n",
       "      <th>nº</th>\n",
       "      <th>data</th>\n",
       "      <th>viés</th>\n",
       "      <th>Período de vigência</th>\n",
       "      <th>Meta SELIC</th>\n",
       "      <th>TBAN</th>\n",
       "      <th>Taxa SELIC_%</th>\n",
       "      <th>Taxa SELIC_%_aa</th>\n",
       "    </tr>\n",
       "  </thead>\n",
       "  <tbody>\n",
       "    <tr>\n",
       "      <th>0</th>\n",
       "      <td>245º</td>\n",
       "      <td>16/03/2022</td>\n",
       "      <td>NaN</td>\n",
       "      <td>17/03/2022 -</td>\n",
       "      <td>11,75</td>\n",
       "      <td>NaN</td>\n",
       "      <td>NaN</td>\n",
       "      <td>NaN</td>\n",
       "    </tr>\n",
       "    <tr>\n",
       "      <th>1</th>\n",
       "      <td>244º</td>\n",
       "      <td>02/02/2022</td>\n",
       "      <td>NaN</td>\n",
       "      <td>03/02/2022 - 16/03/2022</td>\n",
       "      <td>10,75</td>\n",
       "      <td>NaN</td>\n",
       "      <td>1,13</td>\n",
       "      <td>10,65</td>\n",
       "    </tr>\n",
       "    <tr>\n",
       "      <th>2</th>\n",
       "      <td>243º</td>\n",
       "      <td>08/12/2021</td>\n",
       "      <td>NaN</td>\n",
       "      <td>09/12/2021 - 02/02/2022</td>\n",
       "      <td>9,25</td>\n",
       "      <td>NaN</td>\n",
       "      <td>1,40</td>\n",
       "      <td>9,15</td>\n",
       "    </tr>\n",
       "    <tr>\n",
       "      <th>3</th>\n",
       "      <td>242º</td>\n",
       "      <td>27/10/2021</td>\n",
       "      <td>NaN</td>\n",
       "      <td>28/10/2021 - 08/12/2021</td>\n",
       "      <td>7,75</td>\n",
       "      <td>NaN</td>\n",
       "      <td>0,82</td>\n",
       "      <td>7,65</td>\n",
       "    </tr>\n",
       "    <tr>\n",
       "      <th>4</th>\n",
       "      <td>241º</td>\n",
       "      <td>22/09/2021</td>\n",
       "      <td>NaN</td>\n",
       "      <td>23/09/2021 - 27/10/2021</td>\n",
       "      <td>6,25</td>\n",
       "      <td>NaN</td>\n",
       "      <td>0,57</td>\n",
       "      <td>6,15</td>\n",
       "    </tr>\n",
       "  </tbody>\n",
       "</table>\n",
       "</div>"
      ],
      "text/plain": [
       "     nº        data viés      Período de vigência Meta SELIC TBAN  \\\n",
       "0  245º  16/03/2022  NaN             17/03/2022 -      11,75  NaN   \n",
       "1  244º  02/02/2022  NaN  03/02/2022 - 16/03/2022      10,75  NaN   \n",
       "2  243º  08/12/2021  NaN  09/12/2021 - 02/02/2022       9,25  NaN   \n",
       "3  242º  27/10/2021  NaN  28/10/2021 - 08/12/2021       7,75  NaN   \n",
       "4  241º  22/09/2021  NaN  23/09/2021 - 27/10/2021       6,25  NaN   \n",
       "\n",
       "  Taxa SELIC_% Taxa SELIC_%_aa  \n",
       "0          NaN             NaN  \n",
       "1         1,13           10,65  \n",
       "2         1,40            9,15  \n",
       "3         0,82            7,65  \n",
       "4         0,57            6,15  "
      ]
     },
     "execution_count": 11,
     "metadata": {},
     "output_type": "execute_result"
    }
   ],
   "source": [
    "juros.head()"
   ]
  },
  {
   "cell_type": "code",
   "execution_count": 12,
   "metadata": {},
   "outputs": [],
   "source": [
    "juros = juros[['data','Meta SELIC', 'Taxa SELIC_%', 'Taxa SELIC_%_aa']]\n",
    "juros['data'] = juros['data'].astype(str)\n",
    "juros['ano'] = juros['data'].apply(lambda x: x[6:])\n",
    "juros['mes'] = juros['data'].apply(lambda x: x[3:5])\n",
    "juros.drop(columns='data', inplace=True)"
   ]
  },
  {
   "cell_type": "code",
   "execution_count": 13,
   "metadata": {},
   "outputs": [
    {
     "data": {
      "text/html": [
       "<div>\n",
       "<style scoped>\n",
       "    .dataframe tbody tr th:only-of-type {\n",
       "        vertical-align: middle;\n",
       "    }\n",
       "\n",
       "    .dataframe tbody tr th {\n",
       "        vertical-align: top;\n",
       "    }\n",
       "\n",
       "    .dataframe thead th {\n",
       "        text-align: right;\n",
       "    }\n",
       "</style>\n",
       "<table border=\"1\" class=\"dataframe\">\n",
       "  <thead>\n",
       "    <tr style=\"text-align: right;\">\n",
       "      <th></th>\n",
       "      <th>Meta SELIC</th>\n",
       "      <th>Taxa SELIC_%</th>\n",
       "      <th>Taxa SELIC_%_aa</th>\n",
       "      <th>ano</th>\n",
       "      <th>mes</th>\n",
       "    </tr>\n",
       "  </thead>\n",
       "  <tbody>\n",
       "    <tr>\n",
       "      <th>0</th>\n",
       "      <td>11,75</td>\n",
       "      <td>NaN</td>\n",
       "      <td>NaN</td>\n",
       "      <td>2022</td>\n",
       "      <td>03</td>\n",
       "    </tr>\n",
       "    <tr>\n",
       "      <th>1</th>\n",
       "      <td>10,75</td>\n",
       "      <td>1,13</td>\n",
       "      <td>10,65</td>\n",
       "      <td>2022</td>\n",
       "      <td>02</td>\n",
       "    </tr>\n",
       "    <tr>\n",
       "      <th>2</th>\n",
       "      <td>9,25</td>\n",
       "      <td>1,40</td>\n",
       "      <td>9,15</td>\n",
       "      <td>2021</td>\n",
       "      <td>12</td>\n",
       "    </tr>\n",
       "    <tr>\n",
       "      <th>3</th>\n",
       "      <td>7,75</td>\n",
       "      <td>0,82</td>\n",
       "      <td>7,65</td>\n",
       "      <td>2021</td>\n",
       "      <td>10</td>\n",
       "    </tr>\n",
       "    <tr>\n",
       "      <th>4</th>\n",
       "      <td>6,25</td>\n",
       "      <td>0,57</td>\n",
       "      <td>6,15</td>\n",
       "      <td>2021</td>\n",
       "      <td>09</td>\n",
       "    </tr>\n",
       "  </tbody>\n",
       "</table>\n",
       "</div>"
      ],
      "text/plain": [
       "  Meta SELIC Taxa SELIC_% Taxa SELIC_%_aa   ano mes\n",
       "0      11,75          NaN             NaN  2022  03\n",
       "1      10,75         1,13           10,65  2022  02\n",
       "2       9,25         1,40            9,15  2021  12\n",
       "3       7,75         0,82            7,65  2021  10\n",
       "4       6,25         0,57            6,15  2021  09"
      ]
     },
     "execution_count": 13,
     "metadata": {},
     "output_type": "execute_result"
    }
   ],
   "source": [
    "juros.head()"
   ]
  },
  {
   "cell_type": "markdown",
   "metadata": {},
   "source": [
    "### Iniciando tratamento dos dados"
   ]
  },
  {
   "cell_type": "code",
   "execution_count": 14,
   "metadata": {},
   "outputs": [],
   "source": [
    "ipca.rename(columns={'variacao_mensal':'variacao_mensal_ipca'}, inplace=True)\n",
    "ipca = ipca[['ano','mes','indice','variacao_mensal_ipca']]"
   ]
  },
  {
   "cell_type": "code",
   "execution_count": 15,
   "metadata": {},
   "outputs": [
    {
     "data": {
      "text/html": [
       "<div>\n",
       "<style scoped>\n",
       "    .dataframe tbody tr th:only-of-type {\n",
       "        vertical-align: middle;\n",
       "    }\n",
       "\n",
       "    .dataframe tbody tr th {\n",
       "        vertical-align: top;\n",
       "    }\n",
       "\n",
       "    .dataframe thead th {\n",
       "        text-align: right;\n",
       "    }\n",
       "</style>\n",
       "<table border=\"1\" class=\"dataframe\">\n",
       "  <thead>\n",
       "    <tr style=\"text-align: right;\">\n",
       "      <th></th>\n",
       "      <th>ano</th>\n",
       "      <th>mes</th>\n",
       "      <th>Expectativa média de Inflação</th>\n",
       "    </tr>\n",
       "  </thead>\n",
       "  <tbody>\n",
       "    <tr>\n",
       "      <th>0</th>\n",
       "      <td>2001</td>\n",
       "      <td>07</td>\n",
       "      <td>6,40</td>\n",
       "    </tr>\n",
       "    <tr>\n",
       "      <th>1</th>\n",
       "      <td>2001</td>\n",
       "      <td>08</td>\n",
       "      <td>6,57</td>\n",
       "    </tr>\n",
       "    <tr>\n",
       "      <th>2</th>\n",
       "      <td>2001</td>\n",
       "      <td>09</td>\n",
       "      <td>6,53</td>\n",
       "    </tr>\n",
       "    <tr>\n",
       "      <th>3</th>\n",
       "      <td>2001</td>\n",
       "      <td>10</td>\n",
       "      <td>6,49</td>\n",
       "    </tr>\n",
       "    <tr>\n",
       "      <th>4</th>\n",
       "      <td>2001</td>\n",
       "      <td>11</td>\n",
       "      <td>5,57</td>\n",
       "    </tr>\n",
       "  </tbody>\n",
       "</table>\n",
       "</div>"
      ],
      "text/plain": [
       "    ano mes Expectativa média de Inflação \n",
       "0  2001  07                           6,40\n",
       "1  2001  08                           6,57\n",
       "2  2001  09                           6,53\n",
       "3  2001  10                           6,49\n",
       "4  2001  11                           5,57"
      ]
     },
     "execution_count": 15,
     "metadata": {},
     "output_type": "execute_result"
    }
   ],
   "source": [
    "exp.head()"
   ]
  },
  {
   "cell_type": "code",
   "execution_count": 16,
   "metadata": {},
   "outputs": [],
   "source": [
    "exp['ano'] = exp['ano'].astype(int)\n",
    "exp['mes'] = exp['mes'].astype(int)\n",
    "juros['ano'] = pd.to_numeric(juros.ano)\n",
    "juros['mes'] = pd.to_numeric(juros.mes)"
   ]
  },
  {
   "cell_type": "code",
   "execution_count": 17,
   "metadata": {},
   "outputs": [],
   "source": [
    "ipca_exp = ipca.merge(exp, on=['ano','mes'])\n",
    "ipca_exp_jur = ipca_exp.merge(juros, on=['ano','mes'])"
   ]
  },
  {
   "cell_type": "code",
   "execution_count": 18,
   "metadata": {},
   "outputs": [],
   "source": [
    "ipca_exp_jur.rename(columns={'Expectativa média de Inflação ':'exp_media_inflacao', 'Meta SELIC': 'meta_selic', 'Taxa SELIC_%': 'taxa_s_%', 'Taxa SELIC_%_aa':'taxa_s_aa'}, inplace=True)"
   ]
  },
  {
   "cell_type": "code",
   "execution_count": 19,
   "metadata": {},
   "outputs": [],
   "source": [
    "ipca_exp_jur['exp_media_inflacao'] = ipca_exp_jur['exp_media_inflacao'].apply(lambda x: float('.'.join(x.split(','))))\n",
    "ipca_exp_jur['meta_selic'] = ipca_exp_jur['meta_selic'].apply(lambda x: float('.'.join(x.split(','))))\n",
    "ipca_exp_jur['taxa_s_%'] = ipca_exp_jur['taxa_s_%'].apply(lambda x: float('.'.join(x.split(','))))\n",
    "ipca_exp_jur['taxa_s_aa'] = ipca_exp_jur['taxa_s_aa'].apply(lambda x: float('.'.join(x.split(','))))\n"
   ]
  },
  {
   "cell_type": "code",
   "execution_count": 20,
   "metadata": {},
   "outputs": [
    {
     "data": {
      "text/html": [
       "<div>\n",
       "<style scoped>\n",
       "    .dataframe tbody tr th:only-of-type {\n",
       "        vertical-align: middle;\n",
       "    }\n",
       "\n",
       "    .dataframe tbody tr th {\n",
       "        vertical-align: top;\n",
       "    }\n",
       "\n",
       "    .dataframe thead th {\n",
       "        text-align: right;\n",
       "    }\n",
       "</style>\n",
       "<table border=\"1\" class=\"dataframe\">\n",
       "  <thead>\n",
       "    <tr style=\"text-align: right;\">\n",
       "      <th></th>\n",
       "      <th>ano</th>\n",
       "      <th>mes</th>\n",
       "      <th>indice</th>\n",
       "      <th>variacao_mensal_ipca</th>\n",
       "      <th>exp_media_inflacao</th>\n",
       "      <th>meta_selic</th>\n",
       "      <th>taxa_s_%</th>\n",
       "      <th>taxa_s_aa</th>\n",
       "    </tr>\n",
       "  </thead>\n",
       "  <tbody>\n",
       "    <tr>\n",
       "      <th>0</th>\n",
       "      <td>2001</td>\n",
       "      <td>7</td>\n",
       "      <td>1756.28</td>\n",
       "      <td>1.33</td>\n",
       "      <td>6.40</td>\n",
       "      <td>19.0</td>\n",
       "      <td>1.74</td>\n",
       "      <td>18.96</td>\n",
       "    </tr>\n",
       "    <tr>\n",
       "      <th>1</th>\n",
       "      <td>2001</td>\n",
       "      <td>8</td>\n",
       "      <td>1768.57</td>\n",
       "      <td>0.70</td>\n",
       "      <td>6.57</td>\n",
       "      <td>19.0</td>\n",
       "      <td>1.32</td>\n",
       "      <td>19.04</td>\n",
       "    </tr>\n",
       "    <tr>\n",
       "      <th>2</th>\n",
       "      <td>2001</td>\n",
       "      <td>9</td>\n",
       "      <td>1773.52</td>\n",
       "      <td>0.28</td>\n",
       "      <td>6.53</td>\n",
       "      <td>19.0</td>\n",
       "      <td>1.32</td>\n",
       "      <td>19.07</td>\n",
       "    </tr>\n",
       "    <tr>\n",
       "      <th>3</th>\n",
       "      <td>2001</td>\n",
       "      <td>10</td>\n",
       "      <td>1788.24</td>\n",
       "      <td>0.83</td>\n",
       "      <td>6.49</td>\n",
       "      <td>19.0</td>\n",
       "      <td>1.60</td>\n",
       "      <td>19.05</td>\n",
       "    </tr>\n",
       "    <tr>\n",
       "      <th>4</th>\n",
       "      <td>2001</td>\n",
       "      <td>11</td>\n",
       "      <td>1800.94</td>\n",
       "      <td>0.71</td>\n",
       "      <td>5.57</td>\n",
       "      <td>19.0</td>\n",
       "      <td>1.39</td>\n",
       "      <td>19.05</td>\n",
       "    </tr>\n",
       "  </tbody>\n",
       "</table>\n",
       "</div>"
      ],
      "text/plain": [
       "    ano  mes   indice  variacao_mensal_ipca  exp_media_inflacao  meta_selic  \\\n",
       "0  2001    7  1756.28                  1.33                6.40        19.0   \n",
       "1  2001    8  1768.57                  0.70                6.57        19.0   \n",
       "2  2001    9  1773.52                  0.28                6.53        19.0   \n",
       "3  2001   10  1788.24                  0.83                6.49        19.0   \n",
       "4  2001   11  1800.94                  0.71                5.57        19.0   \n",
       "\n",
       "   taxa_s_%  taxa_s_aa  \n",
       "0      1.74      18.96  \n",
       "1      1.32      19.04  \n",
       "2      1.32      19.07  \n",
       "3      1.60      19.05  \n",
       "4      1.39      19.05  "
      ]
     },
     "execution_count": 20,
     "metadata": {},
     "output_type": "execute_result"
    }
   ],
   "source": [
    "ipca_exp_jur.head()"
   ]
  },
  {
   "cell_type": "markdown",
   "metadata": {},
   "source": [
    "### Normalizando os períodos para a formulação da regressão a partir da série temporal"
   ]
  },
  {
   "cell_type": "code",
   "execution_count": 21,
   "metadata": {},
   "outputs": [],
   "source": [
    "ipca_exp_jur['t'] = [i for i in range((len(ipca_exp_jur)-1)*(-1), 1, 1)]"
   ]
  },
  {
   "cell_type": "markdown",
   "metadata": {},
   "source": [
    "## Criando modelo"
   ]
  },
  {
   "cell_type": "code",
   "execution_count": 22,
   "metadata": {},
   "outputs": [
    {
     "name": "stderr",
     "output_type": "stream",
     "text": [
      "/home/joao/anaconda3/envs/scraping/lib/python3.9/site-packages/xgboost/compat.py:36: FutureWarning: pandas.Int64Index is deprecated and will be removed from pandas in a future version. Use pandas.Index with the appropriate dtype instead.\n",
      "  from pandas import MultiIndex, Int64Index\n"
     ]
    }
   ],
   "source": [
    "import xgboost as xgb\n",
    "from sklearn.metrics import mean_squared_error\n",
    "from sklearn.model_selection import train_test_split\n",
    "import numpy as np"
   ]
  },
  {
   "cell_type": "code",
   "execution_count": 87,
   "metadata": {},
   "outputs": [],
   "source": [
    "X, y = ipca_exp_jur[['variacao_mensal_ipca','exp_media_inflacao', 'meta_selic', 'taxa_s_%', 'taxa_s_aa', 't']], ipca_exp_jur[['indice']]"
   ]
  },
  {
   "cell_type": "code",
   "execution_count": 88,
   "metadata": {},
   "outputs": [
    {
     "name": "stderr",
     "output_type": "stream",
     "text": [
      "/home/joao/anaconda3/envs/scraping/lib/python3.9/site-packages/xgboost/data.py:262: FutureWarning: pandas.Int64Index is deprecated and will be removed from pandas in a future version. Use pandas.Index with the appropriate dtype instead.\n",
      "  elif isinstance(data.columns, (pd.Int64Index, pd.RangeIndex)):\n"
     ]
    }
   ],
   "source": [
    "data_dmatrix = xgb.DMatrix(data=X,label=y)"
   ]
  },
  {
   "cell_type": "code",
   "execution_count": 89,
   "metadata": {},
   "outputs": [],
   "source": [
    "X_train, X_test, y_train, y_test = train_test_split(X, y, test_size=0.2, random_state=123)"
   ]
  },
  {
   "cell_type": "code",
   "execution_count": 129,
   "metadata": {},
   "outputs": [],
   "source": [
    "xg_reg = xgb.XGBRegressor(objective ='reg:squarederror', colsample_bytree = 0.6, learning_rate = 0.3,\n",
    "                max_depth = 9, alpha = 16, n_estimators = 12)"
   ]
  },
  {
   "cell_type": "code",
   "execution_count": 130,
   "metadata": {},
   "outputs": [
    {
     "name": "stderr",
     "output_type": "stream",
     "text": [
      "/home/joao/anaconda3/envs/scraping/lib/python3.9/site-packages/xgboost/data.py:262: FutureWarning: pandas.Int64Index is deprecated and will be removed from pandas in a future version. Use pandas.Index with the appropriate dtype instead.\n",
      "  elif isinstance(data.columns, (pd.Int64Index, pd.RangeIndex)):\n"
     ]
    }
   ],
   "source": [
    "xg_reg.fit(X_train,y_train)\n",
    "\n",
    "preds = xg_reg.predict(X_test)"
   ]
  },
  {
   "cell_type": "code",
   "execution_count": 131,
   "metadata": {},
   "outputs": [
    {
     "name": "stdout",
     "output_type": "stream",
     "text": [
      "RMSE: 331.804132\n"
     ]
    }
   ],
   "source": [
    "rmse = np.sqrt(mean_squared_error(y_test, preds))\n",
    "print(\"RMSE: %f\" % (rmse))"
   ]
  },
  {
   "cell_type": "code",
   "execution_count": 132,
   "metadata": {},
   "outputs": [
    {
     "data": {
      "image/png": "[encoded data removed]",
      "text/plain": [
       "<Figure size 432x288 with 1 Axes>"
      ]
     },
     "metadata": {
      "needs_background": "light"
     },
     "output_type": "display_data"
    }
   ],
   "source": [
    "import matplotlib.pyplot as plt\n",
    "\n",
    "plt.scatter(X_test.t, preds, color='r', label='Efetiva')\n",
    "plt.scatter(X_test.t,y_test.indice, label='Prevista')\n",
    "plt.title('Inflação efetiva X Modelo')\n",
    "plt.grid()\n",
    "plt.legend()\n",
    "plt.show()"
   ]
  }
 ],
 "metadata": {
  "interpreter": {
   "hash": "0b57a106df503026757037a3564c5b06bb9bd0ebd4985fd2fe126eeda7bdee66"
  },
  "kernelspec": {
   "display_name": "Python 3.9.7 ('scraping')",
   "language": "python",
   "name": "python3"
  },
  "language_info": {
   "codemirror_mode": {
    "name": "ipython",
    "version": 3
   },
   "file_extension": ".py",
   "mimetype": "text/x-python",
   "name": "python",
   "nbconvert_exporter": "python",
   "pygments_lexer": "ipython3",
   "version": "3.9.7"
  },
  "orig_nbformat": 4
 },
 "nbformat": 4,
 "nbformat_minor": 2
}
